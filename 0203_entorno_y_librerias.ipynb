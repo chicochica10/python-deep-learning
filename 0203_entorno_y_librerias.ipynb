{
  "nbformat": 4,
  "nbformat_minor": 0,
  "metadata": {
    "colab": {
      "name": "0203 entorno y librerias.ipynb",
      "provenance": [],
      "authorship_tag": "ABX9TyO2L0kFG+MCu47AWBrsxSs8",
      "include_colab_link": true
    },
    "kernelspec": {
      "name": "python3",
      "display_name": "Python 3"
    },
    "language_info": {
      "name": "python"
    },
    "accelerator": "GPU"
  },
  "cells": [
    {
      "cell_type": "markdown",
      "metadata": {
        "id": "view-in-github",
        "colab_type": "text"
      },
      "source": [
        "<a href=\"https://colab.research.google.com/github/chicochica10/python-deep-learning/blob/master/0203_entorno_y_librerias.ipynb\" target=\"_parent\"><img src=\"https://colab.research.google.com/assets/colab-badge.svg\" alt=\"Open In Colab\"/></a>"
      ]
    },
    {
      "cell_type": "code",
      "execution_count": null,
      "metadata": {
        "id": "P4kE2iW24Hsb"
      },
      "outputs": [],
      "source": [
        "%tensorflow_version 2.x"
      ]
    },
    {
      "cell_type": "code",
      "source": [
        "import tensorflow as tf\n",
        "from random import randint \n",
        "#from tensorflow import keras\n",
        "print (\"GPU available: \", tf.test.is_gpu_available())\n",
        "print (tf.__version__)\n",
        "print (tf.keras.__version__)\n",
        "#help()\n",
        "#dir (str)\n",
        "randomint = randint (1,100)\n",
        "print (randomint)"
      ],
      "metadata": {
        "colab": {
          "base_uri": "https://localhost:8080/"
        },
        "id": "8M8RtyOj4aim",
        "outputId": "93e4753a-d754-4e4a-81f4-dc5e599249b4"
      },
      "execution_count": null,
      "outputs": [
        {
          "output_type": "stream",
          "name": "stdout",
          "text": [
            "GPU available:  True\n",
            "2.8.0\n",
            "2.8.0\n",
            "59\n"
          ]
        }
      ]
    },
    {
      "cell_type": "code",
      "source": [
        ""
      ],
      "metadata": {
        "id": "yf6Hr3Om-fEz"
      },
      "execution_count": null,
      "outputs": []
    },
    {
      "cell_type": "code",
      "source": [
        ""
      ],
      "metadata": {
        "id": "On3dQ7SV9p7e"
      },
      "execution_count": null,
      "outputs": []
    }
  ]
}